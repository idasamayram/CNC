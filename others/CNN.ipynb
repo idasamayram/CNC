{
 "cells": [
  {
   "cell_type": "code",
   "execution_count": 1,
   "id": "f5c237b4-4efc-4880-a786-a8316589190b",
   "metadata": {},
   "outputs": [
    {
     "name": "stderr",
     "output_type": "stream",
     "text": [
      "2024-06-05 15:04:33.647071: I external/local_tsl/tsl/cuda/cudart_stub.cc:32] Could not find cuda drivers on your machine, GPU will not be used.\n",
      "2024-06-05 15:04:33.715583: I external/local_tsl/tsl/cuda/cudart_stub.cc:32] Could not find cuda drivers on your machine, GPU will not be used.\n",
      "2024-06-05 15:04:34.060628: I tensorflow/core/platform/cpu_feature_guard.cc:210] This TensorFlow binary is optimized to use available CPU instructions in performance-critical operations.\n",
      "To enable the following instructions: AVX2 FMA, in other operations, rebuild TensorFlow with the appropriate compiler flags.\n",
      "2024-06-05 15:04:35.213994: W tensorflow/compiler/tf2tensorrt/utils/py_utils.cc:38] TF-TRT Warning: Could not find TensorRT\n"
     ]
    }
   ],
   "source": [
    "import tensorflow as tf\n",
    "from tensorflow.keras.models import Sequential\n",
    "import h5py\n",
    "from tensorflow.keras.preprocessing.sequence import pad_sequences\n",
    "from pathlib import Path\n",
    "from tensorflow.keras.layers import Conv1D, MaxPooling1D, Dense, Dropout, GlobalAveragePooling1D, Softmax\n",
    "import numpy as np\n",
    "from tensorflow.keras.preprocessing.sequence import pad_sequences\n",
    "from sklearn.model_selection import train_test_split\n",
    "import random\n"
   ]
  },
  {
   "cell_type": "code",
   "execution_count": 2,
   "id": "8f7cd5bf-4ea8-48f6-b90b-c8fc676bc0a0",
   "metadata": {},
   "outputs": [],
   "source": [
    "def create_model(input_shape):\n",
    "    model = Sequential()\n",
    "    model.add(Conv1D(filters=32, kernel_size=3, activation='relu', input_shape=input_shape))\n",
    "    model.add(Conv1D(filters=64, kernel_size=3, activation='relu'))\n",
    "\n",
    "    model.add(GlobalAveragePooling1D())\n",
    "    model.add(Dense(1, activation='sigmoid'))\n",
    "    model.compile(optimizer='adam', loss='binary_crossentropy', metrics=['accuracy'])\n",
    "    return model"
   ]
  },
  {
   "cell_type": "code",
   "execution_count": 3,
   "id": "628f57a3-d82f-44f9-a1fc-09fc07904f13",
   "metadata": {},
   "outputs": [],
   "source": [
    "def load_data(file_paths, max_length):\n",
    "    data = []\n",
    "    labels = []\n",
    "    for file_path in file_paths:\n",
    "        with h5py.File(file_path, 'r') as f:\n",
    "            vibration_data = f['vibration_data'][:]\n",
    "            label = 1 if 'good_data' in file_path.parts else 0\n",
    "            data.append(vibration_data)\n",
    "            labels.append(label)\n",
    "\n",
    "    data_padded = pad_sequences(data, maxlen=max_length, padding='post', dtype='float32')\n",
    "    return np.array(data_padded), np.array(labels)\n"
   ]
  },
  {
   "cell_type": "markdown",
   "id": "14da686f-64c3-4093-829d-5027b1ccd7d8",
   "metadata": {},
   "source": [
    "### balanced dtaset on whole machine and operations"
   ]
  },
  {
   "cell_type": "code",
   "execution_count": 4,
   "id": "a1d1be42-2c5d-4802-95de-2bc8fd59724d",
   "metadata": {},
   "outputs": [],
   "source": [
    "data_root = Path(\"./data/\")\n",
    "good_file_paths = list((data_root / 'balanced_data' / 'good_data').glob('*.h5'))\n",
    "bad_file_paths = list((data_root / 'balanced_data' / 'bad_data').glob('*.h5'))\n",
    "file_paths = good_file_paths + bad_file_paths"
   ]
  },
  {
   "cell_type": "code",
   "execution_count": 8,
   "id": "03763cdc-6383-47ec-81e1-3fbcc3a4aa8e",
   "metadata": {},
   "outputs": [
    {
     "name": "stdout",
     "output_type": "stream",
     "text": [
      "X shape: (140, 10000, 3)\n",
      "y shape: (140,)\n",
      "Epoch 1/25\n",
      "\u001B[1m4/4\u001B[0m \u001B[32m━━━━━━━━━━━━━━━━━━━━\u001B[0m\u001B[37m\u001B[0m \u001B[1m2s\u001B[0m 239ms/step - accuracy: 0.6939 - loss: 19.8081 - val_accuracy: 1.0000 - val_loss: 2.2601e-21\n",
      "Epoch 2/25\n",
      "\u001B[1m4/4\u001B[0m \u001B[32m━━━━━━━━━━━━━━━━━━━━\u001B[0m\u001B[37m\u001B[0m \u001B[1m1s\u001B[0m 203ms/step - accuracy: 0.4122 - loss: 21.0687 - val_accuracy: 0.0357 - val_loss: 22.8912\n",
      "Epoch 3/25\n",
      "\u001B[1m4/4\u001B[0m \u001B[32m━━━━━━━━━━━━━━━━━━━━\u001B[0m\u001B[37m\u001B[0m \u001B[1m1s\u001B[0m 208ms/step - accuracy: 0.6125 - loss: 10.3048 - val_accuracy: 0.0357 - val_loss: 22.7913\n",
      "Epoch 4/25\n",
      "\u001B[1m4/4\u001B[0m \u001B[32m━━━━━━━━━━━━━━━━━━━━\u001B[0m\u001B[37m\u001B[0m \u001B[1m1s\u001B[0m 208ms/step - accuracy: 0.7132 - loss: 4.5653 - val_accuracy: 1.0000 - val_loss: 0.0022\n",
      "Epoch 5/25\n",
      "\u001B[1m4/4\u001B[0m \u001B[32m━━━━━━━━━━━━━━━━━━━━\u001B[0m\u001B[37m\u001B[0m \u001B[1m1s\u001B[0m 215ms/step - accuracy: 0.4737 - loss: 4.1513 - val_accuracy: 0.5357 - val_loss: 5.7293\n",
      "Epoch 6/25\n",
      "\u001B[1m4/4\u001B[0m \u001B[32m━━━━━━━━━━━━━━━━━━━━\u001B[0m\u001B[37m\u001B[0m \u001B[1m1s\u001B[0m 209ms/step - accuracy: 0.8260 - loss: 1.6859 - val_accuracy: 0.4286 - val_loss: 8.6328\n",
      "Epoch 7/25\n",
      "\u001B[1m4/4\u001B[0m \u001B[32m━━━━━━━━━━━━━━━━━━━━\u001B[0m\u001B[37m\u001B[0m \u001B[1m1s\u001B[0m 210ms/step - accuracy: 0.8646 - loss: 1.5069 - val_accuracy: 0.7857 - val_loss: 0.8248\n",
      "Epoch 8/25\n",
      "\u001B[1m4/4\u001B[0m \u001B[32m━━━━━━━━━━━━━━━━━━━━\u001B[0m\u001B[37m\u001B[0m \u001B[1m1s\u001B[0m 209ms/step - accuracy: 0.7363 - loss: 1.9489 - val_accuracy: 0.6786 - val_loss: 1.8478\n",
      "Epoch 9/25\n",
      "\u001B[1m4/4\u001B[0m \u001B[32m━━━━━━━━━━━━━━━━━━━━\u001B[0m\u001B[37m\u001B[0m \u001B[1m1s\u001B[0m 209ms/step - accuracy: 0.8143 - loss: 1.0686 - val_accuracy: 0.5000 - val_loss: 7.1939\n",
      "Epoch 10/25\n",
      "\u001B[1m4/4\u001B[0m \u001B[32m━━━━━━━━━━━━━━━━━━━━\u001B[0m\u001B[37m\u001B[0m \u001B[1m1s\u001B[0m 216ms/step - accuracy: 0.8397 - loss: 1.5462 - val_accuracy: 0.6786 - val_loss: 3.2108\n",
      "Epoch 11/25\n",
      "\u001B[1m4/4\u001B[0m \u001B[32m━━━━━━━━━━━━━━━━━━━━\u001B[0m\u001B[37m\u001B[0m \u001B[1m1s\u001B[0m 209ms/step - accuracy: 0.8628 - loss: 0.5801 - val_accuracy: 0.7143 - val_loss: 1.1883\n",
      "Epoch 12/25\n",
      "\u001B[1m4/4\u001B[0m \u001B[32m━━━━━━━━━━━━━━━━━━━━\u001B[0m\u001B[37m\u001B[0m \u001B[1m1s\u001B[0m 209ms/step - accuracy: 0.8366 - loss: 0.9711 - val_accuracy: 0.6786 - val_loss: 1.8353\n",
      "Epoch 13/25\n",
      "\u001B[1m4/4\u001B[0m \u001B[32m━━━━━━━━━━━━━━━━━━━━\u001B[0m\u001B[37m\u001B[0m \u001B[1m1s\u001B[0m 212ms/step - accuracy: 0.8583 - loss: 0.7846 - val_accuracy: 0.6786 - val_loss: 2.9658\n",
      "Epoch 14/25\n",
      "\u001B[1m4/4\u001B[0m \u001B[32m━━━━━━━━━━━━━━━━━━━━\u001B[0m\u001B[37m\u001B[0m \u001B[1m1s\u001B[0m 210ms/step - accuracy: 0.8900 - loss: 0.7030 - val_accuracy: 0.7143 - val_loss: 1.0075\n",
      "Epoch 15/25\n",
      "\u001B[1m4/4\u001B[0m \u001B[32m━━━━━━━━━━━━━━━━━━━━\u001B[0m\u001B[37m\u001B[0m \u001B[1m1s\u001B[0m 204ms/step - accuracy: 0.8371 - loss: 0.7877 - val_accuracy: 0.7143 - val_loss: 1.0053\n",
      "Epoch 16/25\n",
      "\u001B[1m4/4\u001B[0m \u001B[32m━━━━━━━━━━━━━━━━━━━━\u001B[0m\u001B[37m\u001B[0m \u001B[1m1s\u001B[0m 215ms/step - accuracy: 0.8615 - loss: 0.7543 - val_accuracy: 0.6071 - val_loss: 2.6556\n",
      "Epoch 17/25\n",
      "\u001B[1m4/4\u001B[0m \u001B[32m━━━━━━━━━━━━━━━━━━━━\u001B[0m\u001B[37m\u001B[0m \u001B[1m1s\u001B[0m 209ms/step - accuracy: 0.9144 - loss: 0.4714 - val_accuracy: 0.7857 - val_loss: 0.7442\n",
      "Epoch 18/25\n",
      "\u001B[1m4/4\u001B[0m \u001B[32m━━━━━━━━━━━━━━━━━━━━\u001B[0m\u001B[37m\u001B[0m \u001B[1m1s\u001B[0m 211ms/step - accuracy: 0.8699 - loss: 0.4470 - val_accuracy: 0.7143 - val_loss: 0.9326\n",
      "Epoch 19/25\n",
      "\u001B[1m4/4\u001B[0m \u001B[32m━━━━━━━━━━━━━━━━━━━━\u001B[0m\u001B[37m\u001B[0m \u001B[1m1s\u001B[0m 212ms/step - accuracy: 0.8624 - loss: 0.4618 - val_accuracy: 0.6786 - val_loss: 1.1351\n",
      "Epoch 20/25\n",
      "\u001B[1m4/4\u001B[0m \u001B[32m━━━━━━━━━━━━━━━━━━━━\u001B[0m\u001B[37m\u001B[0m \u001B[1m1s\u001B[0m 208ms/step - accuracy: 0.8984 - loss: 0.3622 - val_accuracy: 0.7143 - val_loss: 0.6889\n",
      "Epoch 21/25\n",
      "\u001B[1m4/4\u001B[0m \u001B[32m━━━━━━━━━━━━━━━━━━━━\u001B[0m\u001B[37m\u001B[0m \u001B[1m1s\u001B[0m 209ms/step - accuracy: 0.9387 - loss: 0.2523 - val_accuracy: 0.8214 - val_loss: 0.4772\n",
      "Epoch 22/25\n",
      "\u001B[1m4/4\u001B[0m \u001B[32m━━━━━━━━━━━━━━━━━━━━\u001B[0m\u001B[37m\u001B[0m \u001B[1m1s\u001B[0m 211ms/step - accuracy: 0.9137 - loss: 0.2376 - val_accuracy: 0.8929 - val_loss: 0.2178\n",
      "Epoch 23/25\n",
      "\u001B[1m4/4\u001B[0m \u001B[32m━━━━━━━━━━━━━━━━━━━━\u001B[0m\u001B[37m\u001B[0m \u001B[1m1s\u001B[0m 208ms/step - accuracy: 0.9101 - loss: 0.2563 - val_accuracy: 0.7857 - val_loss: 0.3620\n",
      "Epoch 24/25\n",
      "\u001B[1m4/4\u001B[0m \u001B[32m━━━━━━━━━━━━━━━━━━━━\u001B[0m\u001B[37m\u001B[0m \u001B[1m1s\u001B[0m 214ms/step - accuracy: 0.9504 - loss: 0.1498 - val_accuracy: 0.9643 - val_loss: 0.0923\n",
      "Epoch 25/25\n",
      "\u001B[1m4/4\u001B[0m \u001B[32m━━━━━━━━━━━━━━━━━━━━\u001B[0m\u001B[37m\u001B[0m \u001B[1m1s\u001B[0m 228ms/step - accuracy: 0.9467 - loss: 0.2155 - val_accuracy: 0.8214 - val_loss: 0.3052\n"
     ]
    },
    {
     "data": {
      "text/plain": [
       "<keras.src.callbacks.history.History at 0x77039c6fd010>"
      ]
     },
     "execution_count": 8,
     "metadata": {},
     "output_type": "execute_result"
    }
   ],
   "source": [
    "max_length = 10000\n",
    "X, y = load_data(file_paths, max_length)\n",
    "\n",
    "print(f\"X shape: {X.shape}\")\n",
    "print(f\"y shape: {y.shape}\")\n",
    "\n",
    "input_shape = (X.shape[1], X.shape[2])\n",
    "model = create_model(input_shape)\n",
    "model.fit(X, y, epochs=25, batch_size=32, validation_split=0.2)"
   ]
  },
  {
   "cell_type": "code",
   "execution_count": 9,
   "id": "63c2705c-9bd8-4e14-96f8-8a5cb3006e60",
   "metadata": {},
   "outputs": [],
   "source": []
  },
  {
   "cell_type": "code",
   "execution_count": 10,
   "id": "f88b1310-3364-4905-9998-886542b509f2",
   "metadata": {},
   "outputs": [],
   "source": [
    "def create_model(input_shape):\n",
    "    model = Sequential()\n",
    "    model.add(Conv1D(filters=32, kernel_size=3, activation='relu', input_shape=input_shape))\n",
    "    model.add(Conv1D(filters=64, kernel_size=3, activation='relu'))\n",
    "    model.add(GlobalAveragePooling1D())\n",
    "    model.add(Dense(1, activation='sigmoid'))\n",
    "    model.compile(optimizer='adam', loss='binary_crossentropy', metrics=['accuracy'])\n",
    "    return model\n"
   ]
  },
  {
   "cell_type": "code",
   "execution_count": 11,
   "id": "a0903b2e-7051-46b9-bd90-30b0634e72a6",
   "metadata": {},
   "outputs": [],
   "source": [
    "\n",
    "def load_data(file_paths):\n",
    "    data = []\n",
    "    labels = []\n",
    "    max_length = 0\n",
    "    for file_path in file_paths:\n",
    "        with h5py.File(file_path, 'r') as f:\n",
    "            vibration_data = f['vibration_data'][:]\n",
    "            label = 1 if 'good_data_subset' in file_path.parts else 0\n",
    "            data.append(vibration_data)\n",
    "            labels.append(label)\n",
    "            max_length = max(max_length, len(vibration_data))\n",
    "\n",
    "    data_padded = pad_sequences(data, maxlen=max_length, padding='post', dtype='float32')\n",
    "    return np.array(data_padded), np.array(labels), max_length"
   ]
  },
  {
   "cell_type": "markdown",
   "id": "24c26878-bf6c-41f4-8f71-fb128f97f377",
   "metadata": {},
   "source": [
    "### Padded data_set with different time length subset of machines"
   ]
  },
  {
   "cell_type": "code",
   "execution_count": 12,
   "id": "6f37828d-cf56-4a50-a93f-81df9071731f",
   "metadata": {},
   "outputs": [],
   "source": [
    "data_root = Path(\"./data/\")\n",
    "good_file_paths = list((data_root / 'balanced_data_subset' / 'good_data_subset').glob('*.h5'))\n",
    "bad_file_paths = list((data_root / 'balanced_data_subset' / 'bad_data_subset').glob('*.h5'))\n",
    "file_paths = good_file_paths + bad_file_paths"
   ]
  },
  {
   "cell_type": "code",
   "execution_count": 13,
   "id": "020c7acc-e2bd-4099-a1a3-eb854716eea8",
   "metadata": {},
   "outputs": [
    {
     "name": "stdout",
     "output_type": "stream",
     "text": [
      "X shape: (70, 137392, 3)\n",
      "y shape: (70,)\n",
      "Epoch 1/20\n"
     ]
    },
    {
     "name": "stderr",
     "output_type": "stream",
     "text": [
      "/home/fe/asadi/anaconda3/lib/python3.11/site-packages/keras/src/layers/convolutional/base_conv.py:107: UserWarning: Do not pass an `input_shape`/`input_dim` argument to a layer. When using Sequential models, prefer using an `Input(shape)` object as the first layer in the model instead.\n",
      "  super().__init__(activity_regularizer=activity_regularizer, **kwargs)\n",
      "2024-06-05 14:48:04.859659: W external/local_tsl/tsl/framework/cpu_allocator_impl.cc:83] Allocation of 1125482496 exceeds 10% of free system memory.\n",
      "2024-06-05 14:48:05.775065: W external/local_tsl/tsl/framework/cpu_allocator_impl.cc:83] Allocation of 1125482496 exceeds 10% of free system memory.\n"
     ]
    },
    {
     "name": "stdout",
     "output_type": "stream",
     "text": [
      "\u001B[1m1/2\u001B[0m \u001B[32m━━━━━━━━━━\u001B[0m\u001B[37m━━━━━━━━━━\u001B[0m \u001B[1m5s\u001B[0m 5s/step - accuracy: 0.5625 - loss: 29.2895"
     ]
    },
    {
     "name": "stderr",
     "output_type": "stream",
     "text": [
      "2024-06-05 14:48:08.024458: W external/local_tsl/tsl/framework/cpu_allocator_impl.cc:83] Allocation of 844111872 exceeds 10% of free system memory.\n",
      "2024-06-05 14:48:08.610100: W external/local_tsl/tsl/framework/cpu_allocator_impl.cc:83] Allocation of 844111872 exceeds 10% of free system memory.\n"
     ]
    },
    {
     "name": "stdout",
     "output_type": "stream",
     "text": [
      "\u001B[1m2/2\u001B[0m \u001B[32m━━━━━━━━━━━━━━━━━━━━\u001B[0m\u001B[37m\u001B[0m \u001B[1m8s\u001B[0m 3s/step - accuracy: 0.5208 - loss: 26.2228 - val_accuracy: 0.5000 - val_loss: 2.5579\n",
      "Epoch 2/20\n"
     ]
    },
    {
     "name": "stderr",
     "output_type": "stream",
     "text": [
      "2024-06-05 14:48:10.814474: W external/local_tsl/tsl/framework/cpu_allocator_impl.cc:83] Allocation of 1125482496 exceeds 10% of free system memory.\n"
     ]
    },
    {
     "name": "stdout",
     "output_type": "stream",
     "text": [
      "\u001B[1m2/2\u001B[0m \u001B[32m━━━━━━━━━━━━━━━━━━━━\u001B[0m\u001B[37m\u001B[0m \u001B[1m6s\u001B[0m 3s/step - accuracy: 0.4792 - loss: 4.6875 - val_accuracy: 0.5000 - val_loss: 7.4696\n",
      "Epoch 3/20\n",
      "\u001B[1m2/2\u001B[0m \u001B[32m━━━━━━━━━━━━━━━━━━━━\u001B[0m\u001B[37m\u001B[0m \u001B[1m6s\u001B[0m 3s/step - accuracy: 0.5000 - loss: 7.1259 - val_accuracy: 0.8571 - val_loss: 0.4884\n",
      "Epoch 4/20\n",
      "\u001B[1m2/2\u001B[0m \u001B[32m━━━━━━━━━━━━━━━━━━━━\u001B[0m\u001B[37m\u001B[0m \u001B[1m6s\u001B[0m 3s/step - accuracy: 0.6548 - loss: 2.3720 - val_accuracy: 0.5000 - val_loss: 5.6537\n",
      "Epoch 5/20\n",
      "\u001B[1m2/2\u001B[0m \u001B[32m━━━━━━━━━━━━━━━━━━━━\u001B[0m\u001B[37m\u001B[0m \u001B[1m6s\u001B[0m 3s/step - accuracy: 0.4896 - loss: 5.6606 - val_accuracy: 0.8571 - val_loss: 0.4622\n",
      "Epoch 6/20\n",
      "\u001B[1m2/2\u001B[0m \u001B[32m━━━━━━━━━━━━━━━━━━━━\u001B[0m\u001B[37m\u001B[0m \u001B[1m6s\u001B[0m 3s/step - accuracy: 0.7351 - loss: 1.1937 - val_accuracy: 0.5714 - val_loss: 2.5493\n",
      "Epoch 7/20\n",
      "\u001B[1m2/2\u001B[0m \u001B[32m━━━━━━━━━━━━━━━━━━━━\u001B[0m\u001B[37m\u001B[0m \u001B[1m6s\u001B[0m 3s/step - accuracy: 0.5134 - loss: 3.5289 - val_accuracy: 0.8571 - val_loss: 0.9640\n",
      "Epoch 8/20\n",
      "\u001B[1m2/2\u001B[0m \u001B[32m━━━━━━━━━━━━━━━━━━━━\u001B[0m\u001B[37m\u001B[0m \u001B[1m6s\u001B[0m 3s/step - accuracy: 0.7292 - loss: 1.1868 - val_accuracy: 0.5714 - val_loss: 1.0429\n",
      "Epoch 9/20\n",
      "\u001B[1m2/2\u001B[0m \u001B[32m━━━━━━━━━━━━━━━━━━━━\u001B[0m\u001B[37m\u001B[0m \u001B[1m6s\u001B[0m 3s/step - accuracy: 0.5342 - loss: 1.5995 - val_accuracy: 0.6429 - val_loss: 0.6490\n",
      "Epoch 10/20\n",
      "\u001B[1m2/2\u001B[0m \u001B[32m━━━━━━━━━━━━━━━━━━━━\u001B[0m\u001B[37m\u001B[0m \u001B[1m6s\u001B[0m 3s/step - accuracy: 0.7961 - loss: 0.7250 - val_accuracy: 0.8571 - val_loss: 0.7393\n",
      "Epoch 11/20\n",
      "\u001B[1m2/2\u001B[0m \u001B[32m━━━━━━━━━━━━━━━━━━━━\u001B[0m\u001B[37m\u001B[0m \u001B[1m6s\u001B[0m 3s/step - accuracy: 0.7158 - loss: 1.0609 - val_accuracy: 0.8571 - val_loss: 0.9559\n",
      "Epoch 12/20\n",
      "\u001B[1m2/2\u001B[0m \u001B[32m━━━━━━━━━━━━━━━━━━━━\u001B[0m\u001B[37m\u001B[0m \u001B[1m6s\u001B[0m 3s/step - accuracy: 0.6622 - loss: 1.3076 - val_accuracy: 0.8571 - val_loss: 0.6525\n",
      "Epoch 13/20\n",
      "\u001B[1m2/2\u001B[0m \u001B[32m━━━━━━━━━━━━━━━━━━━━\u001B[0m\u001B[37m\u001B[0m \u001B[1m6s\u001B[0m 3s/step - accuracy: 0.7619 - loss: 0.7708 - val_accuracy: 0.7857 - val_loss: 0.5659\n",
      "Epoch 14/20\n",
      "\u001B[1m2/2\u001B[0m \u001B[32m━━━━━━━━━━━━━━━━━━━━\u001B[0m\u001B[37m\u001B[0m \u001B[1m6s\u001B[0m 3s/step - accuracy: 0.7723 - loss: 0.8779 - val_accuracy: 0.7143 - val_loss: 0.6578\n",
      "Epoch 15/20\n",
      "\u001B[1m2/2\u001B[0m \u001B[32m━━━━━━━━━━━━━━━━━━━━\u001B[0m\u001B[37m\u001B[0m \u001B[1m6s\u001B[0m 3s/step - accuracy: 0.8304 - loss: 0.7453 - val_accuracy: 0.8571 - val_loss: 0.4029\n",
      "Epoch 16/20\n",
      "\u001B[1m2/2\u001B[0m \u001B[32m━━━━━━━━━━━━━━━━━━━━\u001B[0m\u001B[37m\u001B[0m \u001B[1m6s\u001B[0m 3s/step - accuracy: 0.8051 - loss: 0.6508 - val_accuracy: 0.8571 - val_loss: 0.6898\n",
      "Epoch 17/20\n",
      "\u001B[1m2/2\u001B[0m \u001B[32m━━━━━━━━━━━━━━━━━━━━\u001B[0m\u001B[37m\u001B[0m \u001B[1m6s\u001B[0m 3s/step - accuracy: 0.7500 - loss: 0.8775 - val_accuracy: 0.8571 - val_loss: 0.6148\n",
      "Epoch 18/20\n",
      "\u001B[1m2/2\u001B[0m \u001B[32m━━━━━━━━━━━━━━━━━━━━\u001B[0m\u001B[37m\u001B[0m \u001B[1m6s\u001B[0m 3s/step - accuracy: 0.7307 - loss: 0.9471 - val_accuracy: 0.7857 - val_loss: 0.3580\n",
      "Epoch 19/20\n",
      "\u001B[1m2/2\u001B[0m \u001B[32m━━━━━━━━━━━━━━━━━━━━\u001B[0m\u001B[37m\u001B[0m \u001B[1m6s\u001B[0m 3s/step - accuracy: 0.8065 - loss: 0.6145 - val_accuracy: 0.8571 - val_loss: 0.5828\n",
      "Epoch 20/20\n",
      "\u001B[1m2/2\u001B[0m \u001B[32m━━━━━━━━━━━━━━━━━━━━\u001B[0m\u001B[37m\u001B[0m \u001B[1m6s\u001B[0m 3s/step - accuracy: 0.8065 - loss: 0.7611 - val_accuracy: 0.8571 - val_loss: 0.3462\n"
     ]
    },
    {
     "data": {
      "text/plain": [
       "<keras.src.callbacks.history.History at 0x77039c7a9a50>"
      ]
     },
     "execution_count": 13,
     "metadata": {},
     "output_type": "execute_result"
    }
   ],
   "source": [
    "random.shuffle(file_paths)\n",
    "\n",
    "X, y, max_length = load_data(file_paths)\n",
    "\n",
    "print(f\"X shape: {X.shape}\")\n",
    "print(f\"y shape: {y.shape}\")\n",
    "\n",
    "X_train, X_val, y_train, y_val = train_test_split(X, y, test_size=0.2, random_state=42)\n",
    "\n",
    "input_shape = (max_length, X.shape[2])\n",
    "\n",
    "model = create_model(input_shape)\n",
    "model.fit(X_train, y_train, epochs=20, batch_size=32, validation_data=(X_val, y_val))\n"
   ]
  },
  {
   "cell_type": "markdown",
   "id": "c7c4e1e9-3248-4bbf-844d-ce9d1d5069aa",
   "metadata": {},
   "source": [
    "### Trimmed data into 12 seconds"
   ]
  },
  {
   "cell_type": "code",
   "execution_count": 21,
   "id": "ea38a386-0557-465e-953f-03b616cbee90",
   "metadata": {},
   "outputs": [],
   "source": [
    "\n",
    "def load_data(file_paths):\n",
    "    data = []\n",
    "    labels = []\n",
    "    max_length = 0\n",
    "    for file_path in file_paths:\n",
    "        with h5py.File(file_path, 'r') as f:\n",
    "            vibration_data = f['vibration_data'][:]\n",
    "            label = 1 if 'good_data_tr2' in file_path.parts else 0\n",
    "            data.append(vibration_data)\n",
    "            labels.append(label)\n",
    "            max_length = max(max_length, len(vibration_data))\n",
    "\n",
    "    data_padded = pad_sequences(data, maxlen=max_length, padding='post', dtype='float32')\n",
    "    return np.array(data_padded), np.array(labels), max_length"
   ]
  },
  {
   "cell_type": "code",
   "execution_count": 22,
   "id": "5920e6df-49e9-4b88-8339-3a172b85b0b9",
   "metadata": {},
   "outputs": [],
   "source": [
    "data_root_tr2 = Path(\"./data/\")\n",
    "good_file_paths_tr2 = list((data_root_tr2 / 'balanced_data_tr2' / 'good_data_tr2').glob('*.h5'))\n",
    "bad_file_paths_tr2 = list((data_root_tr2 / 'balanced_data_tr2' / 'bad_data_tr2').glob('*.h5'))\n",
    "file_paths_tr2 = good_file_paths_tr2 + bad_file_paths_tr2"
   ]
  },
  {
   "cell_type": "code",
   "execution_count": 25,
   "id": "862be283-df6e-4536-b40f-20b41e6cffb2",
   "metadata": {},
   "outputs": [
    {
     "name": "stdout",
     "output_type": "stream",
     "text": [
      "X shape: (394, 24000, 3)\n",
      "y shape: (394,)\n",
      "Epoch 1/20\n",
      "\u001B[1m10/10\u001B[0m \u001B[32m━━━━━━━━━━━━━━━━━━━━\u001B[0m\u001B[37m\u001B[0m \u001B[1m6s\u001B[0m 559ms/step - accuracy: 0.5099 - loss: 66.1615 - val_accuracy: 0.5823 - val_loss: 14.7045\n",
      "Epoch 2/20\n",
      "\u001B[1m10/10\u001B[0m \u001B[32m━━━━━━━━━━━━━━━━━━━━\u001B[0m\u001B[37m\u001B[0m \u001B[1m5s\u001B[0m 549ms/step - accuracy: 0.5716 - loss: 10.4187 - val_accuracy: 0.5063 - val_loss: 7.2648\n",
      "Epoch 3/20\n",
      "\u001B[1m10/10\u001B[0m \u001B[32m━━━━━━━━━━━━━━━━━━━━\u001B[0m\u001B[37m\u001B[0m \u001B[1m6s\u001B[0m 591ms/step - accuracy: 0.5936 - loss: 3.4446 - val_accuracy: 0.6962 - val_loss: 2.7563\n",
      "Epoch 4/20\n",
      "\u001B[1m10/10\u001B[0m \u001B[32m━━━━━━━━━━━━━━━━━━━━\u001B[0m\u001B[37m\u001B[0m \u001B[1m6s\u001B[0m 591ms/step - accuracy: 0.7586 - loss: 1.7331 - val_accuracy: 0.6835 - val_loss: 1.1361\n",
      "Epoch 5/20\n",
      "\u001B[1m10/10\u001B[0m \u001B[32m━━━━━━━━━━━━━━━━━━━━\u001B[0m\u001B[37m\u001B[0m \u001B[1m6s\u001B[0m 607ms/step - accuracy: 0.7694 - loss: 1.1694 - val_accuracy: 0.6835 - val_loss: 1.0463\n",
      "Epoch 6/20\n",
      "\u001B[1m10/10\u001B[0m \u001B[32m━━━━━━━━━━━━━━━━━━━━\u001B[0m\u001B[37m\u001B[0m \u001B[1m6s\u001B[0m 615ms/step - accuracy: 0.7666 - loss: 1.0528 - val_accuracy: 0.6329 - val_loss: 0.9783\n",
      "Epoch 7/20\n",
      "\u001B[1m10/10\u001B[0m \u001B[32m━━━━━━━━━━━━━━━━━━━━\u001B[0m\u001B[37m\u001B[0m \u001B[1m6s\u001B[0m 606ms/step - accuracy: 0.7199 - loss: 0.9692 - val_accuracy: 0.6582 - val_loss: 0.8791\n",
      "Epoch 8/20\n",
      "\u001B[1m10/10\u001B[0m \u001B[32m━━━━━━━━━━━━━━━━━━━━\u001B[0m\u001B[37m\u001B[0m \u001B[1m6s\u001B[0m 598ms/step - accuracy: 0.7416 - loss: 0.7125 - val_accuracy: 0.7468 - val_loss: 0.5758\n",
      "Epoch 9/20\n",
      "\u001B[1m10/10\u001B[0m \u001B[32m━━━━━━━━━━━━━━━━━━━━\u001B[0m\u001B[37m\u001B[0m \u001B[1m7s\u001B[0m 663ms/step - accuracy: 0.8102 - loss: 0.4825 - val_accuracy: 0.8101 - val_loss: 0.5583\n",
      "Epoch 10/20\n",
      "\u001B[1m10/10\u001B[0m \u001B[32m━━━━━━━━━━━━━━━━━━━━\u001B[0m\u001B[37m\u001B[0m \u001B[1m6s\u001B[0m 624ms/step - accuracy: 0.8950 - loss: 0.3096 - val_accuracy: 0.8354 - val_loss: 0.5261\n",
      "Epoch 11/20\n",
      "\u001B[1m10/10\u001B[0m \u001B[32m━━━━━━━━━━━━━━━━━━━━\u001B[0m\u001B[37m\u001B[0m \u001B[1m6s\u001B[0m 644ms/step - accuracy: 0.8976 - loss: 0.2675 - val_accuracy: 0.8354 - val_loss: 0.4274\n",
      "Epoch 12/20\n",
      "\u001B[1m10/10\u001B[0m \u001B[32m━━━━━━━━━━━━━━━━━━━━\u001B[0m\u001B[37m\u001B[0m \u001B[1m6s\u001B[0m 652ms/step - accuracy: 0.8568 - loss: 0.3095 - val_accuracy: 0.7975 - val_loss: 0.5541\n",
      "Epoch 13/20\n",
      "\u001B[1m10/10\u001B[0m \u001B[32m━━━━━━━━━━━━━━━━━━━━\u001B[0m\u001B[37m\u001B[0m \u001B[1m7s\u001B[0m 655ms/step - accuracy: 0.8633 - loss: 0.3428 - val_accuracy: 0.8734 - val_loss: 0.3277\n",
      "Epoch 14/20\n",
      "\u001B[1m10/10\u001B[0m \u001B[32m━━━━━━━━━━━━━━━━━━━━\u001B[0m\u001B[37m\u001B[0m \u001B[1m6s\u001B[0m 639ms/step - accuracy: 0.8575 - loss: 0.2912 - val_accuracy: 0.8734 - val_loss: 0.3136\n",
      "Epoch 15/20\n",
      "\u001B[1m10/10\u001B[0m \u001B[32m━━━━━━━━━━━━━━━━━━━━\u001B[0m\u001B[37m\u001B[0m \u001B[1m6s\u001B[0m 629ms/step - accuracy: 0.8471 - loss: 0.3503 - val_accuracy: 0.8481 - val_loss: 0.3297\n",
      "Epoch 16/20\n",
      "\u001B[1m10/10\u001B[0m \u001B[32m━━━━━━━━━━━━━━━━━━━━\u001B[0m\u001B[37m\u001B[0m \u001B[1m7s\u001B[0m 652ms/step - accuracy: 0.8652 - loss: 0.3078 - val_accuracy: 0.8734 - val_loss: 0.2826\n",
      "Epoch 17/20\n",
      "\u001B[1m10/10\u001B[0m \u001B[32m━━━━━━━━━━━━━━━━━━━━\u001B[0m\u001B[37m\u001B[0m \u001B[1m6s\u001B[0m 631ms/step - accuracy: 0.9193 - loss: 0.2199 - val_accuracy: 0.8481 - val_loss: 0.3671\n",
      "Epoch 18/20\n",
      "\u001B[1m10/10\u001B[0m \u001B[32m━━━━━━━━━━━━━━━━━━━━\u001B[0m\u001B[37m\u001B[0m \u001B[1m7s\u001B[0m 667ms/step - accuracy: 0.9053 - loss: 0.2273 - val_accuracy: 0.8608 - val_loss: 0.2774\n",
      "Epoch 19/20\n",
      "\u001B[1m10/10\u001B[0m \u001B[32m━━━━━━━━━━━━━━━━━━━━\u001B[0m\u001B[37m\u001B[0m \u001B[1m7s\u001B[0m 650ms/step - accuracy: 0.8326 - loss: 0.3799 - val_accuracy: 0.7975 - val_loss: 0.4695\n",
      "Epoch 20/20\n",
      "\u001B[1m10/10\u001B[0m \u001B[32m━━━━━━━━━━━━━━━━━━━━\u001B[0m\u001B[37m\u001B[0m \u001B[1m7s\u001B[0m 677ms/step - accuracy: 0.7918 - loss: 0.7485 - val_accuracy: 0.5823 - val_loss: 2.7813\n"
     ]
    },
    {
     "data": {
      "text/plain": [
       "<keras.src.callbacks.history.History at 0x77032c29a7d0>"
      ]
     },
     "execution_count": 25,
     "metadata": {},
     "output_type": "execute_result"
    }
   ],
   "source": [
    "random.shuffle(file_paths_tr2)\n",
    "\n",
    "X, y, max_length = load_data(file_paths_tr2)\n",
    "\n",
    "print(f\"X shape: {X.shape}\")\n",
    "print(f\"y shape: {y.shape}\")\n",
    "\n",
    "X_train, X_val, y_train, y_val = train_test_split(X, y, test_size=0.2, random_state=42)\n",
    "\n",
    "input_shape = (max_length, X.shape[2])\n",
    "\n",
    "model = create_model(input_shape)\n",
    "model.fit(X_train, y_train, epochs=20, batch_size=32, validation_data=(X_val, y_val))\n"
   ]
  },
  {
   "cell_type": "markdown",
   "id": "8cf18ed0-724b-43c8-a850-843b3c8bc5b5",
   "metadata": {},
   "source": [
    "#### 1D convolutional layer, a Max Pooling layer with a window size of 2, one fully connected convolutional layer with 64 units, a dropout layer, and an output layer. The activation function used by both convolutional layers is ReLU, whereas the final classification is obtained by applying the SoftMax function"
   ]
  },
  {
   "cell_type": "code",
   "execution_count": 2,
   "id": "5bce3cbe-6390-49ef-982e-0192f1dfdab3",
   "metadata": {},
   "outputs": [],
   "source": [
    "def create_model(input_shape):\n",
    "    model = Sequential()\n",
    "    # 1D Convolutional layer\n",
    "    model.add(Conv1D(filters=32, kernel_size=3, activation='relu', input_shape=input_shape))\n",
    "    # Max Pooling layer\n",
    "    model.add(MaxPooling1D(pool_size=2))\n",
    "    # Fully connected convolutional layer\n",
    "    model.add(Conv1D(filters=64, kernel_size=3, activation='relu'))\n",
    "    # Global average pooling to handle variable input length\n",
    "    model.add(GlobalAveragePooling1D())\n",
    "    # Dropout layer\n",
    "    model.add(Dropout(0.5))\n",
    "    # Output layer\n",
    "    model.add(Dense(2, activation='softmax'))  # Assuming binary classification but with softmax\n",
    "\n",
    "    model.compile(optimizer='adam', loss='sparse_categorical_crossentropy', metrics=['accuracy'])\n",
    "    return model\n"
   ]
  },
  {
   "cell_type": "code",
   "execution_count": 3,
   "id": "5369add8-1715-498f-bc4e-6eb185d21d3a",
   "metadata": {},
   "outputs": [],
   "source": [
    "def load_data(file_paths):\n",
    "    data = []\n",
    "    labels = []\n",
    "    max_length = 0\n",
    "    for file_path in file_paths:\n",
    "        with h5py.File(file_path, 'r') as f:\n",
    "            vibration_data = f['vibration_data'][:]\n",
    "            label = 1 if 'good' in file_path.parts else 0\n",
    "            data.append(vibration_data)\n",
    "            labels.append(label)\n",
    "            max_length = max(max_length, len(vibration_data))\n",
    "    \n",
    "    # Padding sequences to the maximum length found in the dataset\n",
    "    data_padded = pad_sequences(data, maxlen=max_length, padding='post', dtype='float32')\n",
    "    return np.array(data_padded), np.array(labels), max_length\n"
   ]
  },
  {
   "cell_type": "code",
   "execution_count": 4,
   "id": "7da80be2-3dc3-4247-820e-bcbc1194564c",
   "metadata": {},
   "outputs": [
    {
     "name": "stdout",
     "output_type": "stream",
     "text": [
      "X shape: (140, 268288, 3)\n",
      "y shape: (140,)\n"
     ]
    }
   ],
   "source": [
    "data_root = Path(\"./data/\")\n",
    "good_file_paths = list((data_root / 'balanced_data' / 'good_data').glob('*.h5'))\n",
    "bad_file_paths = list((data_root / 'balanced_data' / 'bad_data').glob('*.h5'))\n",
    "file_paths = good_file_paths + bad_file_paths\n",
    "\n",
    "# Shuffle file paths before loading data\n",
    "random.shuffle(file_paths)\n",
    "\n",
    "# Load data without truncating\n",
    "X, y, max_length = load_data(file_paths)\n",
    "\n",
    "# Check the shape of X and y\n",
    "print(f\"X shape: {X.shape}\")\n",
    "print(f\"y shape: {y.shape}\")\n",
    "\n",
    "# Split data into train and validation sets\n",
    "X_train, X_val, y_train, y_val = train_test_split(X, y, test_size=0.2, random_state=42)\n",
    "\n",
    "# Input shape for the model\n",
    "input_shape = (max_length, X.shape[2])\n"
   ]
  },
  {
   "cell_type": "code",
   "execution_count": null,
   "id": "e7fce62f-f1f7-4253-be48-a8c04dbc09d2",
   "metadata": {},
   "outputs": [
    {
     "name": "stdout",
     "output_type": "stream",
     "text": [
      "Epoch 1/10\n",
      "\u001B[1m7/7\u001B[0m \u001B[32m━━━━━━━━━━━━━━━━━━━━\u001B[0m\u001B[37m\u001B[0m \u001B[1m18s\u001B[0m 2s/step - accuracy: 0.9903 - loss: 0.0782 - val_accuracy: 1.0000 - val_loss: 0.0000e+00\n",
      "Epoch 2/10\n",
      "\u001B[1m7/7\u001B[0m \u001B[32m━━━━━━━━━━━━━━━━━━━━\u001B[0m\u001B[37m\u001B[0m \u001B[1m17s\u001B[0m 3s/step - accuracy: 1.0000 - loss: 0.0000e+00 - val_accuracy: 1.0000 - val_loss: 0.0000e+00\n",
      "Epoch 3/10\n",
      "\u001B[1m7/7\u001B[0m \u001B[32m━━━━━━━━━━━━━━━━━━━━\u001B[0m\u001B[37m\u001B[0m \u001B[1m18s\u001B[0m 3s/step - accuracy: 1.0000 - loss: 0.0000e+00 - val_accuracy: 1.0000 - val_loss: 0.0000e+00\n",
      "Epoch 4/10\n",
      "\u001B[1m7/7\u001B[0m \u001B[32m━━━━━━━━━━━━━━━━━━━━\u001B[0m\u001B[37m\u001B[0m \u001B[1m18s\u001B[0m 3s/step - accuracy: 1.0000 - loss: 0.0000e+00 - val_accuracy: 1.0000 - val_loss: 0.0000e+00\n",
      "Epoch 5/10\n",
      "\u001B[1m7/7\u001B[0m \u001B[32m━━━━━━━━━━━━━━━━━━━━\u001B[0m\u001B[37m\u001B[0m \u001B[1m17s\u001B[0m 3s/step - accuracy: 1.0000 - loss: 0.0000e+00 - val_accuracy: 1.0000 - val_loss: 0.0000e+00\n",
      "Epoch 6/10\n",
      "\u001B[1m7/7\u001B[0m \u001B[32m━━━━━━━━━━━━━━━━━━━━\u001B[0m\u001B[37m\u001B[0m \u001B[1m17s\u001B[0m 3s/step - accuracy: 1.0000 - loss: 0.0000e+00 - val_accuracy: 1.0000 - val_loss: 0.0000e+00\n",
      "Epoch 7/10\n",
      "\u001B[1m7/7\u001B[0m \u001B[32m━━━━━━━━━━━━━━━━━━━━\u001B[0m\u001B[37m\u001B[0m \u001B[1m18s\u001B[0m 3s/step - accuracy: 1.0000 - loss: 0.0000e+00 - val_accuracy: 1.0000 - val_loss: 0.0000e+00\n",
      "Epoch 8/10\n",
      "\u001B[1m7/7\u001B[0m \u001B[32m━━━━━━━━━━━━━━━━━━━━\u001B[0m\u001B[37m\u001B[0m \u001B[1m17s\u001B[0m 3s/step - accuracy: 1.0000 - loss: 0.0000e+00 - val_accuracy: 1.0000 - val_loss: 0.0000e+00\n",
      "Epoch 9/10\n",
      "\u001B[1m7/7\u001B[0m \u001B[32m━━━━━━━━━━━━━━━━━━━━\u001B[0m\u001B[37m\u001B[0m \u001B[1m18s\u001B[0m 3s/step - accuracy: 1.0000 - loss: 0.0000e+00 - val_accuracy: 1.0000 - val_loss: 0.0000e+00\n",
      "Epoch 10/10\n",
      "\u001B[1m6/7\u001B[0m \u001B[32m━━━━━━━━━━━━━━━━━\u001B[0m\u001B[37m━━━\u001B[0m \u001B[1m2s\u001B[0m 2s/step - accuracy: 1.0000 - loss: 0.0000e+00"
     ]
    }
   ],
   "source": [
    "# Create and train the model\n",
    "model = create_model(input_shape)\n",
    "model.fit(X_train, y_train, epochs=10, batch_size=16, validation_data=(X_val, y_val))\n"
   ]
  },
  {
   "cell_type": "code",
   "execution_count": null,
   "id": "28ef69d8-8aa5-4b6d-9c19-345ee57967aa",
   "metadata": {},
   "outputs": [],
   "source": []
  }
 ],
 "metadata": {
  "kernelspec": {
   "display_name": "Python 3 (ipykernel)",
   "language": "python",
   "name": "python3"
  },
  "language_info": {
   "codemirror_mode": {
    "name": "ipython",
    "version": 3
   },
   "file_extension": ".py",
   "mimetype": "text/x-python",
   "name": "python",
   "nbconvert_exporter": "python",
   "pygments_lexer": "ipython3",
   "version": "3.11.7"
  }
 },
 "nbformat": 4,
 "nbformat_minor": 5
}
