{
 "cells": [
  {
   "cell_type": "code",
   "execution_count": null,
   "id": "1e47b805-7478-431a-85a4-57520fb9ffaf",
   "metadata": {},
   "outputs": [],
   "source": []
  }
 ],
 "metadata": {
  "kernelspec": {
   "display_name": "",
   "name": ""
  },
  "language_info": {
   "name": ""
  }
 },
 "nbformat": 4,
 "nbformat_minor": 5
}
